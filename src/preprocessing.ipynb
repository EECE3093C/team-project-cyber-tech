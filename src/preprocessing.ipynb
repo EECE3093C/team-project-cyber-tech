{
 "cells": [
  {
   "cell_type": "code",
   "execution_count": 44,
   "metadata": {},
   "outputs": [],
   "source": [
    "import pandas as pd\n",
    "from google.cloud import storage\n",
    "import json\n",
    "import os\n",
    "import sys\n",
    "import io\n",
    "from io import BytesIO\n",
    "import itertools"
   ]
  },
  {
   "cell_type": "code",
   "execution_count": 28,
   "metadata": {},
   "outputs": [],
   "source": [
    "PATH = os.path.join(os.getcwd(), 'main-audio-379318-4f0f68aed787.json')\n",
    "os.environ['GOOGLE_APPLICATION_CREDENTIALS']=PATH\n",
    "client = storage.Client(PATH)"
   ]
  },
  {
   "cell_type": "code",
   "execution_count": 29,
   "metadata": {},
   "outputs": [
    {
     "data": {
      "text/plain": [
       "['datasets_1.0/',\n",
       " 'datasets_1.0/cake.xlsx',\n",
       " 'datasets_1.0/event.xlsx',\n",
       " 'datasets_1.0/food.xlsx',\n",
       " 'datasets_1.0/music.xlsx',\n",
       " 'datasets_1.0/wedding_dress.xlsx']"
      ]
     },
     "execution_count": 29,
     "metadata": {},
     "output_type": "execute_result"
    }
   ],
   "source": [
    "bucket= client.get_bucket('when-we-met')\n",
    "filename = [filename.name for filename in list(bucket.list_blobs(prefix='')) ]\n",
    "filename"
   ]
  },
  {
   "cell_type": "code",
   "execution_count": 32,
   "metadata": {},
   "outputs": [],
   "source": [
    "blop = bucket.blob(blob_name = 'datasets_1.0/event.xlsx').download_as_string()"
   ]
  },
  {
   "cell_type": "code",
   "execution_count": 62,
   "metadata": {},
   "outputs": [
    {
     "name": "stdout",
     "output_type": "stream",
     "text": [
      "[['Transept', 'The Spot of West Fifth', 'The Summit Hotel', 'Newport Syndicate', 'Taft Museum of Art', 'The Lytle Park Hotel, Autograph Collection', 'Cincinnati Marriot at River Center', 'Hotel Covington', 'Embassy Suites Cincinnati - RiverCenter', 'Woodward Theater', '20th Century Theater'], ['Cincinnati Cake & Candy Supplies', 'Haven Bakery', 'Tres Belle Cakes', '3 Sweet Girls Cakery', \"Tink's Sweet Shoppe\", 'Happy Chicks Bakery', 'A Spoon Fulla Sugar', 'Jazzy Sweeties Bakery', 'Mt Lookout Sweets', 'Jazzy Cake Supply'], ['Garnish Catering', 'Jeff Ruby Catering and Entertainment', 'Funkey Catering Events', \"Cincinnati's Catring\", \"Hilver's Catering\", 'Cincinnati Cooks Catering', 'Taste of Class Catering', \"Vonderhaar's catering\", \"Bailey's Family catering\", 'Jeff Thomas Catering'], ['The Chuck Taylors', 'The Sly Band', 'The Touchables', 'The Bluewater Kings Band', 'The Soul Pocket Band', 'The Rusty Griswolds', 'The Link Ensemble', 'The Remains', 'The Mistics', 'The Pete Wagner Band', 'The Airwave Band'], ['Chaz Bridal & Consignment', 'Donna Salyers Fabulous-Bridal', 'Bridal & Formal', 'Carrie Karibo Bridal Boutique', 'Lace Bridal Couture', \"Wendy's Bridal Cincinnati\", 'Hyde Park Bridal', 'Alterations By Toni', 'White Wisteria Bridal Boutique', 'Love Curvy Bridal']]\n"
     ]
    },
    {
     "data": {
      "text/plain": [
       "Location Name                  The Spot of West Fifth\n",
       "Bakery                              Mt Lookout Sweets\n",
       "Food Catering    Jeff Ruby Catering and Entertainment\n",
       "Music                            The Pete Wagner Band\n",
       "Dressers                    Chaz Bridal & Consignment\n",
       "Name: 20000, dtype: object"
      ]
     },
     "metadata": {},
     "output_type": "display_data"
    }
   ],
   "source": [
    "eventDF = pd.read_excel(\n",
    "    io.BytesIO(\n",
    "                 bucket.blob(blob_name = 'datasets_1.0/event.xlsx').download_as_string() \n",
    "              ))\n",
    "cakeDF = pd.read_excel(\n",
    "    io.BytesIO(\n",
    "                 bucket.blob(blob_name = 'datasets_1.0/cake.xlsx').download_as_string() \n",
    "              ))\n",
    "foodDF = pd.read_excel(\n",
    "    io.BytesIO(\n",
    "                 bucket.blob(blob_name = 'datasets_1.0/food.xlsx').download_as_string() \n",
    "              ))\n",
    "musicDF = pd.read_excel(\n",
    "    io.BytesIO(\n",
    "                 bucket.blob(blob_name = 'datasets_1.0/music.xlsx').download_as_string() \n",
    "              ))\n",
    "wedding_dressDF = pd.read_excel(\n",
    "    io.BytesIO(\n",
    "                 bucket.blob(blob_name = 'datasets_1.0/wedding_dress.xlsx').download_as_string() \n",
    "              ))\n",
    "#display(eventDF)\n",
    "# display(cakeDF)\n",
    "# display(foodDF)\n",
    "# display(musicDF)\n",
    "# display(wedding_dressDF)\n",
    "#col_list = eventDF['Location Name'].values.tolist()\n",
    "\n",
    "lists=[eventDF['Location Name'].values.tolist(), cakeDF['Bakery'].values.tolist(), foodDF['Food Catering'].values.tolist(), musicDF['Music'].values.tolist(), wedding_dressDF['Dressers'].values.tolist()]\n",
    "print(lists)\n",
    "x=pd.DataFrame(list(itertools.product(*lists)), columns=['Location Name', 'Bakery', 'Food Catering', 'Music', 'Dressers'])\n",
    "display(x.loc[20000])"
   ]
  },
  {
   "cell_type": "code",
   "execution_count": null,
   "metadata": {},
   "outputs": [],
   "source": []
  }
 ],
 "metadata": {
  "kernelspec": {
   "display_name": "Python 3",
   "language": "python",
   "name": "python3"
  },
  "language_info": {
   "codemirror_mode": {
    "name": "ipython",
    "version": 3
   },
   "file_extension": ".py",
   "mimetype": "text/x-python",
   "name": "python",
   "nbconvert_exporter": "python",
   "pygments_lexer": "ipython3",
   "version": "3.11.0"
  },
  "orig_nbformat": 4,
  "vscode": {
   "interpreter": {
    "hash": "aee8b7b246df8f9039afb4144a1f6fd8d2ca17a180786b69acc140d282b71a49"
   }
  }
 },
 "nbformat": 4,
 "nbformat_minor": 2
}
